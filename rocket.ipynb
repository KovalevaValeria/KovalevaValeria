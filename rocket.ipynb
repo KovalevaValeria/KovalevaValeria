{
 "cells": [
  {
   "cell_type": "code",
   "execution_count": 4,
   "id": "7bc8f1ac",
   "metadata": {},
   "outputs": [
    {
     "data": {
      "image/png": "[encoded data removed]",
      "text/plain": [
       "<Figure size 432x288 with 1 Axes>"
      ]
     },
     "metadata": {
      "needs_background": "light"
     },
     "output_type": "display_data"
    }
   ],
   "source": [
    "import math\n",
    "\n",
    "MODEL_G = 9.81\n",
    "MODEL_DT = 0.001\n",
    "\n",
    "class Body:\n",
    "    def __init__(self, x, y, vx, vy):\n",
    "        \"\"\"\n",
    "        Создать тело.\n",
    "        \n",
    "        Пареметры:\n",
    "        ----------\n",
    "        x: float\n",
    "            горизонтальная координата\n",
    "        y: float\n",
    "            вертикальная координата\n",
    "        vx: float\n",
    "            горизонтальная скорость\n",
    "        vy: float\n",
    "            вертикальная скорость\n",
    "        \"\"\"\n",
    "\n",
    "        self.x = x\n",
    "        self.y = y\n",
    "        self.vx = vx\n",
    "        self.vy = vy\n",
    "        \n",
    "        self.trajectory_x = []\n",
    "        self.trajectory_y = []\n",
    "        \n",
    "\n",
    "    def advance(self):\n",
    "        \"\"\"\n",
    "        Выполнить шаг мат. модели применительно к телу, предварительно записав его координаты\n",
    "        \"\"\"\n",
    "        self.trajectory_x.append(self.x)\n",
    "        self.trajectory_y.append(self.y)\n",
    "        \n",
    "        if self.y > -1:\n",
    "            self.x += self.vx * MODEL_DT\n",
    "            self.y += self.vy * MODEL_DT\n",
    "            self.vy -= MODEL_G * MODEL_DT\n",
    "\n",
    "class Rocket(Body):\n",
    "    def __init__(self, x, y, m_0, m, ux, uy, dm):\n",
    "        \"\"\"\n",
    "        Создать ракету.\n",
    "        \n",
    "        Пареметры:\n",
    "        ----------\n",
    "        x: float\n",
    "            горизонтальная координата\n",
    "        y: float\n",
    "            вертикальная координата\n",
    "        m_0: float\n",
    "            масса ракеты без топлива\n",
    "        m: float\n",
    "            масса ракеты с топливом\n",
    "        ux: float\n",
    "            горизонтальная скорость толива\n",
    "        uy: float\n",
    "            вертикальная скорость топлива\n",
    "        dm: float\n",
    "            изменение массы ракеты\n",
    "        \n",
    "        \"\"\"\n",
    "        super().__init__(x, y, 7, 19) \n",
    "        \n",
    "        self.m = m\n",
    "        self.m_0 = m_0\n",
    "        self.dm = dm\n",
    "        self.ux = ux\n",
    "        self.uy = uy\n",
    "\n",
    "    def advance(self):\n",
    "        super().advance()\n",
    "\n",
    "        if self.m > self.m_0: \n",
    "            self.vx += self.dm/self.m*self.ux*MODEL_DT\n",
    "            self.vy += self.dm/self.m*self.uy*MODEL_DT\n",
    "            self.m -= self.dm*MODEL_DT\n",
    "\n",
    "import numpy as np\n",
    "\n",
    "b = Body(0, 0, 15, 12)\n",
    "r = Rocket(0, 0, 100, 140, 180, 160, 4)\n",
    "\n",
    "bodies = [b, r]\n",
    "\n",
    "for t in np.arange(0, 150, MODEL_DT):\n",
    "    for b in bodies:\n",
    "        b.advance() \n",
    "\n",
    "%matplotlib inline\n",
    "from matplotlib import pyplot as pp\n",
    "\n",
    "for b in bodies:\n",
    "    pp.plot(b.trajectory_x, b.trajectory_y)\n"
   ]
  },
  {
   "cell_type": "code",
   "execution_count": null,
   "id": "3c35bb66",
   "metadata": {},
   "outputs": [],
   "source": []
  }
 ],
 "metadata": {
  "kernelspec": {
   "display_name": "Python 3",
   "language": "python",
   "name": "python3"
  },
  "language_info": {
   "codemirror_mode": {
    "name": "ipython",
    "version": 3
   },
   "file_extension": ".py",
   "mimetype": "text/x-python",
   "name": "python",
   "nbconvert_exporter": "python",
   "pygments_lexer": "ipython3",
   "version": "3.8.8"
  },
  "widgets": {
   "application/vnd.jupyter.widget-state+json": {
    "state": {},
    "version_major": 2,
    "version_minor": 0
   }
  }
 },
 "nbformat": 4,
 "nbformat_minor": 5
}
